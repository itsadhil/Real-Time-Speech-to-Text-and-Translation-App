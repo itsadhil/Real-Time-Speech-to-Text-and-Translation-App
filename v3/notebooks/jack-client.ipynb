{
 "cells": [
  {
   "cell_type": "code",
   "execution_count": 1,
   "metadata": {},
   "outputs": [
    {
     "name": "stdout",
     "output_type": "stream",
     "text": [
      "jackdmp 1.9.22\n",
      "Copyright 2001-2005 Paul Davis and others.\n",
      "Copyright 2004-2016 Grame.\n",
      "Copyright 2016-2023 Filipe Coelho.\n",
      "jackdmp comes with ABSOLUTELY NO WARRANTY\n",
      "This is free software, and you are welcome to redistribute it\n",
      "under certain conditions; see the file COPYING for details\n",
      "JACK server starting in realtime mode with priority 10\n",
      "self-connect-mode is \"Don't restrict self connect requests\"\n"
     ]
    },
    {
     "name": "stderr",
     "output_type": "stream",
     "text": [
      "Cannot connect to server socket err = No such file or directory\n",
      "Cannot connect to server request channel\n"
     ]
    },
    {
     "name": "stdout",
     "output_type": "stream",
     "text": [
      "Separated input = 'MacBook Pro Microphone' \n",
      "Separated output = 'MacBook Pro Speakers' \n"
     ]
    },
    {
     "name": "stderr",
     "output_type": "stream",
     "text": [
      "Default input and output devices are not the same !!\n",
      "Cannot open default device in duplex mode, so aggregate default input and default output\n"
     ]
    },
    {
     "name": "stdout",
     "output_type": "stream",
     "text": [
      "Input channel = 0 ==> JACK input port = 0\n",
      "JACK output port = 0 ==> output channel = 0\n",
      "JACK output port = 1 ==> output channel = 1\n",
      "CoreAudio driver is running...\n"
     ]
    },
    {
     "data": {
      "text/plain": [
       "[jack.Port('system:capture_1'),\n",
       " jack.Port('system:playback_1'),\n",
       " jack.Port('system:playback_2')]"
      ]
     },
     "execution_count": 1,
     "metadata": {},
     "output_type": "execute_result"
    }
   ],
   "source": [
    "import jack\n",
    "client = jack.Client('MyGreatClient')\n",
    "client.get_ports() "
   ]
  },
  {
   "cell_type": "code",
   "execution_count": 2,
   "metadata": {},
   "outputs": [],
   "source": [
    "in2 = client.inports.register('input_2')\n",
    "out2 = client.outports.register('output_2')"
   ]
  },
  {
   "cell_type": "code",
   "execution_count": null,
   "metadata": {},
   "outputs": [],
   "source": [
    "client.activate()"
   ]
  }
 ],
 "metadata": {
  "kernelspec": {
   "display_name": "speech-to-speech",
   "language": "python",
   "name": "python3"
  },
  "language_info": {
   "codemirror_mode": {
    "name": "ipython",
    "version": 3
   },
   "file_extension": ".py",
   "mimetype": "text/x-python",
   "name": "python",
   "nbconvert_exporter": "python",
   "pygments_lexer": "ipython3",
   "version": "3.11.0"
  }
 },
 "nbformat": 4,
 "nbformat_minor": 2
}
